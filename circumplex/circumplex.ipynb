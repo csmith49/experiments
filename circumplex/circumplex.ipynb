{
 "cells": [
  {
   "cell_type": "code",
   "execution_count": null,
   "metadata": {},
   "outputs": [
    {
     "ename": "",
     "evalue": "",
     "output_type": "error",
     "traceback": [
      "\u001b[1;31mThe kernel failed to start as the Python Environment 'Python 3.12.3' is no longer available. Consider selecting another kernel or refreshing the list of Python Environments."
     ]
    }
   ],
   "source": [
    "# You can run:\n",
    "# `python -m pip install -r requirements.txt`\n",
    "# if you need to install the dependencies. These are pretty standard packages\n",
    "# but versions aren't pinned so you should run in a virtual environment to\n",
    "# avoid messing up other installations.\n",
    "\n",
    "import json\n",
    "\n",
    "import numpy as np\n",
    "import pandas as pd\n",
    "import altair as alt\n",
    "\n",
    "import dotenv\n",
    "from openai import OpenAI\n",
    "\n",
    "# To configure the OpenAI client, you'll need to provide your own OpenAI API\n",
    "# key. You can do so by adding the line:\n",
    "# `OPENAI_API_KEY = <put your API key here>`\n",
    "# to a file called `.env`.\n",
    "\n",
    "dotenv.load_dotenv(\".env\", override=True)\n",
    "client = OpenAI()\n",
    "\n",
    "\n",
    "def embed(text: str, model: str = \"text-embedding-3-small\") -> list[float]:\n",
    "    \"\"\"\n",
    "    Embed the provided text with the selected OpenAI embedding model.\n",
    "    \n",
    "    See https://platform.openai.com/docs/guides/embeddings/embedding-models for more details on available models and usage.\n",
    "    \"\"\"\n",
    "    response = client.embeddings.create(input=text, model=model)\n",
    "    return response.data[0].embedding\n",
    "\n"
   ]
  },
  {
   "cell_type": "code",
   "execution_count": null,
   "metadata": {},
   "outputs": [
    {
     "ename": "",
     "evalue": "",
     "output_type": "error",
     "traceback": [
      "\u001b[1;31mThe kernel failed to start as the Python Environment 'Python 3.12.3' is no longer available. Consider selecting another kernel or refreshing the list of Python Environments."
     ]
    }
   ],
   "source": [
    "# Load the data from the local JSON file and convert it into a dataframe. For\n",
    "# easy plotting we'll convert the position on the edge of the circumplex to (x,\n",
    "# y) coordinates.\n",
    "\n",
    "from math import sin, cos, radians\n",
    "\n",
    "with open(\"data/circumplex.json\", \"r\") as f:\n",
    "    data = json.load(f)\n",
    "\n",
    "df = pd.DataFrame(list(data[\"data\"][\"figure\"].items()), columns=[\"affect\", \"degrees\"])\n",
    "df[\"radians\"] = df[\"degrees\"].map(radians)\n",
    "df[\"valence\"] = df[\"radians\"].map(cos)\n",
    "df[\"arousal\"] = df[\"radians\"].map(sin)"
   ]
  },
  {
   "cell_type": "code",
   "execution_count": null,
   "metadata": {},
   "outputs": [
    {
     "ename": "",
     "evalue": "",
     "output_type": "error",
     "traceback": [
      "\u001b[1;31mThe kernel failed to start as the Python Environment 'Python 3.12.3' is no longer available. Consider selecting another kernel or refreshing the list of Python Environments."
     ]
    }
   ],
   "source": [
    "# Altair chart definitions to mirror Russell's original circumplex diagrams.\n",
    "\n",
    "valence_line = (\n",
    "    alt.Chart()\n",
    "    .mark_rule(strokeDash=(8, 4))\n",
    "    .encode(x=alt.datum(0), y=alt.datum(-1), y2=alt.datum(1))\n",
    ")\n",
    "arousal_line = (\n",
    "    alt.Chart()\n",
    "    .mark_rule(strokeDash=(8, 4))\n",
    "    .encode(y=alt.datum(0), x=alt.datum(-1), x2=alt.datum(1))\n",
    ")\n",
    "\n",
    "positive_label = (\n",
    "    alt.Chart()\n",
    "    .mark_text(baseline=\"bottom\", angle=90, xOffset=10)\n",
    "    .encode(x=alt.datum(1), y=alt.datum(0), text=alt.datum(\"Positive\"))\n",
    ")\n",
    "negative_label = (\n",
    "    alt.Chart()\n",
    "    .mark_text(baseline=\"bottom\", angle=270, xOffset=-10)\n",
    "    .encode(x=alt.datum(-1), y=alt.datum(0), text=alt.datum(\"Negative\"))\n",
    ")\n",
    "active_label = (\n",
    "    alt.Chart()\n",
    "    .mark_text(baseline=\"bottom\", yOffset=-10)\n",
    "    .encode(x=alt.datum(0), y=alt.datum(1), text=alt.datum(\"Active\"))\n",
    ")\n",
    "passive_label = (\n",
    "    alt.Chart()\n",
    "    .mark_text(baseline=\"top\", yOffset=10)\n",
    "    .encode(x=alt.datum(0), y=alt.datum(-1), text=alt.datum(\"Passive\"))\n",
    ")\n",
    "\n",
    "# Combination charts defining the circumplex. For convenience, use the\n",
    "# `render_circumplex` function to render the circumplex diagram on top of the\n",
    "# provided chart.\n",
    "\n",
    "axis_lines = valence_line + arousal_line\n",
    "axis_labels = positive_label + negative_label + active_label + passive_label\n",
    "\n",
    "\n",
    "def add_circumplex(chart: alt.Chart) -> alt.Chart:\n",
    "    \"\"\"\n",
    "    Returns the provided chart with Russell's circumplex added on top.\n",
    "    \"\"\"\n",
    "    return (\n",
    "        (chart + axis_lines + axis_labels)\n",
    "        .configure_view(stroke=None)\n",
    "        .configure_axis(grid=False)\n",
    "    ).interactive()\n",
    "\n",
    "def render_and_save(chart: alt.Chart, filename: str) -> alt.Chart:\n",
    "    \"\"\"\n",
    "    Returns the provided chart after writing it to a file with the given name.\n",
    "    \"\"\"\n",
    "    chart.save(filename)\n",
    "    return chart"
   ]
  },
  {
   "cell_type": "code",
   "execution_count": null,
   "metadata": {},
   "outputs": [
    {
     "ename": "",
     "evalue": "",
     "output_type": "error",
     "traceback": [
      "\u001b[1;31mThe kernel failed to start as the Python Environment 'Python 3.12.3' is no longer available. Consider selecting another kernel or refreshing the list of Python Environments."
     ]
    }
   ],
   "source": [
    "# Render the original circumplex. These are just the (x, y) coordinates we\n",
    "# stored in the dataframe.\n",
    "\n",
    "russells_affects = (\n",
    "    alt.Chart(\n",
    "        df[[\"affect\", \"valence\", \"arousal\", \"degrees\"]], title=\"Russell's Circumplex\"\n",
    "    )\n",
    "    .mark_point()\n",
    "    .encode(\n",
    "        alt.X(\"valence\").axis(None).scale(domain=[-1.2, 1.2]),\n",
    "        alt.Y(\"arousal\").axis(None).scale(domain=[-1.2, 1.2]),\n",
    "        tooltip=[\n",
    "            alt.Tooltip(\"affect\"),\n",
    "            alt.Tooltip(\"degrees\", format=\"0.2f\"),\n",
    "            alt.Tooltip(\"valence\", format=\"0.2f\"),\n",
    "            alt.Tooltip(\"arousal\", format=\"0.2f\"),\n",
    "        ],\n",
    "    )\n",
    ")\n",
    "\n",
    "render_and_save(add_circumplex(russells_affects), \"figures/russells.json\")"
   ]
  },
  {
   "cell_type": "code",
   "execution_count": null,
   "metadata": {},
   "outputs": [
    {
     "ename": "",
     "evalue": "",
     "output_type": "error",
     "traceback": [
      "\u001b[1;31mThe kernel failed to start as the Python Environment 'Python 3.12.3' is no longer available. Consider selecting another kernel or refreshing the list of Python Environments."
     ]
    }
   ],
   "source": [
    "# Generate embeddings for all the affects. This might take a few seconds!\n",
    "\n",
    "df[\"embedding\"] = df[\"affect\"].map(embed)"
   ]
  },
  {
   "cell_type": "code",
   "execution_count": null,
   "metadata": {},
   "outputs": [
    {
     "ename": "",
     "evalue": "",
     "output_type": "error",
     "traceback": [
      "\u001b[1;31mThe kernel failed to start as the Python Environment 'Python 3.12.3' is no longer available. Consider selecting another kernel or refreshing the list of Python Environments."
     ]
    }
   ],
   "source": [
    "# Generate a 2D projection of the word embeddings using t-SNE.\n",
    "\n",
    "from sklearn.manifold import TSNE\n",
    "\n",
    "# Parameters chosen solely because they make the graph look nice. The online \n",
    "# documentation gives some advice on how to choose.\n",
    "# https://scikit-learn.org/stable/modules/generated/sklearn.manifold.TSNE.html \n",
    "tsne = TSNE(perplexity=5, learning_rate=100).fit_transform(\n",
    "    np.array([row.embedding for row in df.itertuples()])\n",
    ")\n",
    "\n",
    "# Project the (28, 2) array back into columns in the dataframe.\n",
    "df[\"x_tsne\"] = pd.Series(np.transpose(tsne)[0])\n",
    "df[\"y_tsne\"] = pd.Series(np.transpose(tsne)[1])"
   ]
  },
  {
   "cell_type": "code",
   "execution_count": null,
   "metadata": {},
   "outputs": [
    {
     "ename": "",
     "evalue": "",
     "output_type": "error",
     "traceback": [
      "\u001b[1;31mThe kernel failed to start as the Python Environment 'Python 3.12.3' is no longer available. Consider selecting another kernel or refreshing the list of Python Environments."
     ]
    }
   ],
   "source": [
    "# Generate quadrant labels for each affect. We'll color the t-SNE embeddings by\n",
    "# which quadrant they're from.\n",
    "\n",
    "\n",
    "def classify_quadrant(degrees: float) -> str:\n",
    "    \"\"\"\n",
    "    Utility function mapping circumplex position to quadrant description.\n",
    "    \"\"\"\n",
    "    if 0 <= degrees <= 90:\n",
    "        return \"Positive and Active\"\n",
    "    elif degrees <= 180:\n",
    "        return \"Negative and Active\"\n",
    "    elif degrees <= 270:\n",
    "        return \"Negative and Passive\"\n",
    "    else:\n",
    "        return \"Positive and Passive\"\n",
    "\n",
    "\n",
    "df[\"quadrant\"] = df[\"degrees\"].map(classify_quadrant)\n",
    "\n",
    "# Graph the t-SNE projection. The selection lets us filter arrows by clicking\n",
    "# the quadrants in the legend.\n",
    "\n",
    "selection = alt.selection_point(fields=[\"quadrant\"], bind=\"legend\")\n",
    "\n",
    "tsne_affects = (\n",
    "    alt.Chart(\n",
    "        df[[\"affect\", \"quadrant\", \"degrees\", \"x_tsne\", \"y_tsne\"]],\n",
    "        title=\"t-SNE Embeddings with Circumplex Angles\",\n",
    "    )\n",
    "    .mark_point(shape=\"arrow\", filled=True, size=300)\n",
    "    .encode(\n",
    "        alt.X(\"x_tsne\").axis(None),\n",
    "        alt.Y(\"y_tsne\").axis(None),\n",
    "        alt.Tooltip(\"affect\"),\n",
    "        alt.Color(\"quadrant\").title(\"Circumplex Quadrant\"),\n",
    "        alt.Angle(\"degrees\").scale(domain=[-270, -270 + -360]),\n",
    "        opacity=alt.condition(selection, alt.value(1.0), alt.value(0.2)),\n",
    "    )\n",
    "    .add_params(selection)\n",
    "    .configure_view(stroke=None)\n",
    "    .configure_axis(grid=False)\n",
    "    .interactive()\n",
    ")\n",
    "\n",
    "render_and_save(tsne_affects, \"figures/tsne.json\")"
   ]
  },
  {
   "cell_type": "code",
   "execution_count": null,
   "metadata": {},
   "outputs": [
    {
     "ename": "",
     "evalue": "",
     "output_type": "error",
     "traceback": [
      "\u001b[1;31mThe kernel failed to start as the Python Environment 'Python 3.12.3' is no longer available. Consider selecting another kernel or refreshing the list of Python Environments."
     ]
    }
   ],
   "source": [
    "# As a sanity check, we'll try to fit a linear model that predicts valence and \n",
    "# arousal directly from the embeddings. Since we've got so many dimensions and \n",
    "# only 28 data points, this should massively overfit.\n",
    "\n",
    "from sklearn.linear_model import LinearRegression\n",
    "\n",
    "E = np.array([row.embedding for row in df.itertuples()])\n",
    "x = df[\"valence\"].to_numpy()\n",
    "y = df[\"arousal\"].to_numpy()\n",
    "\n",
    "valence_lr = LinearRegression().fit(E, x)\n",
    "arousal_lr = LinearRegression().fit(E, y)\n",
    "\n",
    "# These scores report R^2 -- a 1.0 is a perfect fit.\n",
    "assert valence_lr.score(E, x) == 1.0\n",
    "assert arousal_lr.score(E, y) == 1.0"
   ]
  },
  {
   "cell_type": "code",
   "execution_count": null,
   "metadata": {},
   "outputs": [
    {
     "ename": "",
     "evalue": "",
     "output_type": "error",
     "traceback": [
      "\u001b[1;31mThe kernel failed to start as the Python Environment 'Python 3.12.3' is no longer available. Consider selecting another kernel or refreshing the list of Python Environments."
     ]
    }
   ],
   "source": [
    "# Instead of using a direct linear regression, we'll regularize my\n",
    "# simulatneously attempting to minimize the L2 norm of the parameters -- aka, a\n",
    "# Ridge regression.\n",
    "\n",
    "from sklearn.linear_model import Ridge\n",
    "from sklearn.model_selection import LeaveOneOut\n",
    "from sklearn.metrics import mean_squared_error\n",
    "from math import sqrt\n",
    "\n",
    "# The only parameter we need to consider is `alpha`, which controls the \n",
    "# strength of the regularization. Set it to `0.0` and we end up with \n",
    "# `LinearRegression` again. \n",
    "\n",
    "# There are a couple of common ways to pick the value of `alpha`:\n",
    "# 1. Pick the largest `alpha` that doesn't increase mean-squared error. This \n",
    "# strikes a nice balance between bias and variance.\n",
    "# 2. Cross-validation -- and since we don't have much data, we'll do \n",
    "# leave-one-out. That only gives us 28 chances to find the right choice, so \n",
    "# we'll make our parameter sweep pretty broad.\n",
    "\n",
    "alpha = 1.0\n",
    "mse = float(\"inf\")\n",
    "\n",
    "alphas = [0.25 + i * 0.25 for i in range(0, 28)]\n",
    "\n",
    "for alpha_loo, (train_index, test_index) in zip(alphas, LeaveOneOut().split(E)):\n",
    "    E_train, E_test = E[train_index], E[test_index]\n",
    "    x_train, x_test = x[train_index], x[test_index]\n",
    "    y_train, y_test = y[train_index], y[test_index]\n",
    "\n",
    "    valence_loo = Ridge(alpha=alpha_loo).fit(E_train, x_train)\n",
    "    arousal_loo = Ridge(alpha=alpha_loo).fit(E_train, y_train)\n",
    "\n",
    "    loo_mse = mean_squared_error(\n",
    "        [valence_loo.predict(E_test), arousal_loo.predict(E_test)], [x_test, y_test]\n",
    "    )\n",
    "\n",
    "    if loo_mse <= mse:\n",
    "        alpha, mse = alpha_loo, loo_mse\n",
    "\n",
    "print(\"Alpha: {:0.2f}\".format(alpha))\n",
    "\n",
    "valence_ridge = Ridge(alpha=alpha).fit(E, x)\n",
    "arousal_ridge = Ridge(alpha=alpha).fit(E, y)\n",
    "\n",
    "assert valence_ridge.score(E, x) != 1.0\n",
    "assert arousal_ridge.score(E, y) != 1.0\n",
    "\n",
    "print(\n",
    "    \"Valence R²: {:0.2f}, Arousal R²: {:0.2f}\".format(\n",
    "        valence_ridge.score(E, x), arousal_ridge.score(E, y)\n",
    "    )\n",
    ")\n",
    "\n",
    "# We'll add the Ridge regression predictions to the dataframe, along with how\n",
    "# far each affect is from the original values.\n",
    "\n",
    "df[\"valence_ridge\"] = df[\"embedding\"].map(\n",
    "    lambda e: valence_ridge.predict(np.array(e).reshape(1, -1))[0]\n",
    ")\n",
    "df[\"arousal_ridge\"] = df[\"embedding\"].map(\n",
    "    lambda e: arousal_ridge.predict(np.array(e).reshape(1, -1))[0]\n",
    ")\n",
    "df[\"displacement\"] = df.apply(\n",
    "    lambda row: sqrt(\n",
    "        (row.valence - row.valence_ridge) ** 2 + (row.arousal - row.arousal_ridge) ** 2\n",
    "    ),\n",
    "    axis=1,\n",
    ")"
   ]
  },
  {
   "cell_type": "code",
   "execution_count": null,
   "metadata": {},
   "outputs": [
    {
     "ename": "",
     "evalue": "",
     "output_type": "error",
     "traceback": [
      "\u001b[1;31mThe kernel failed to start as the Python Environment 'Python 3.12.3' is no longer available. Consider selecting another kernel or refreshing the list of Python Environments."
     ]
    }
   ],
   "source": [
    "selection = alt.selection_point(fields=[\"affect\"])\n",
    "\n",
    "trimmed_df = df[\n",
    "    [\"affect\", \"displacement\", \"valence_ridge\", \"arousal_ridge\", \"valence\", \"arousal\"]\n",
    "]\n",
    "\n",
    "base = (\n",
    "    alt.Chart(trimmed_df, title=\"Circumplex Ridge Regression\")\n",
    "    .mark_point(filled=True)\n",
    "    .encode(\n",
    "        alt.X(\"valence_ridge\").axis(None).scale(domain=[-1.2, 1.2]),\n",
    "        alt.Y(\"arousal_ridge\").axis(None).scale(domain=[-1.2, 1.2]),\n",
    "        alt.Color(\"displacement:Q\").legend(None).scale(scheme=\"turbo\"),\n",
    "        opacity=alt.condition(selection, alt.value(1.0), alt.value(0.1)),\n",
    "        tooltip=[\n",
    "            alt.Tooltip(\"affect\"),\n",
    "            alt.Tooltip(\"valence_ridge\", title=\"valence\", format=\"0.2f\"),\n",
    "            alt.Tooltip(\"arousal_ridge\", title=\"arousal\", format=\"0.2f\"),\n",
    "            alt.Tooltip(\"displacement:Q\", format=\"0.2f\"),\n",
    "        ],\n",
    "    )\n",
    "    .add_params(selection)\n",
    ")\n",
    "\n",
    "ghost = (\n",
    "    alt.Chart(trimmed_df)\n",
    "    .mark_point()\n",
    "    .encode(\n",
    "        alt.X(\"valence\").axis(None),\n",
    "        alt.Y(\"arousal\").axis(None),\n",
    "        alt.Color(\"displacement:Q\").legend(None).scale(scheme=\"turbo\"),\n",
    "        opacity=alt.condition(selection, alt.value(1.0), alt.value(0.0), empty=False),\n",
    "    )\n",
    ")\n",
    "\n",
    "trails = (\n",
    "    alt.Chart(trimmed_df)\n",
    "    .mark_rule(strokeDash=(2, 4), strokeWidth=2, strokeCap=\"round\")\n",
    "    .encode(\n",
    "        alt.X(\"valence\"),\n",
    "        alt.X2(\"valence_ridge\"),\n",
    "        alt.Y(\"arousal\"),\n",
    "        alt.Y2(\"arousal_ridge\"),\n",
    "        alt.Color(\"displacement\").scale(scheme=\"turbo\"),\n",
    "        opacity=alt.condition(selection, alt.value(1.0), alt.value(0.0), empty=False),\n",
    "    )\n",
    ")\n",
    "\n",
    "render_and_save(add_circumplex(base + ghost + trails), \"figures/ridge.json\")"
   ]
  },
  {
   "cell_type": "code",
   "execution_count": null,
   "metadata": {},
   "outputs": [
    {
     "ename": "",
     "evalue": "",
     "output_type": "error",
     "traceback": [
      "\u001b[1;31mThe kernel failed to start as the Python Environment 'Python 3.12.3' is no longer available. Consider selecting another kernel or refreshing the list of Python Environments."
     ]
    }
   ],
   "source": [
    "with open(\"data/hoffman.json\", \"r\") as f:\n",
    "    hoffman_raw = json.load(f)\n",
    "\n",
    "hoffman_affects = []\n",
    "for category in hoffman_raw[\"categories\"]:\n",
    "    for entry in category[\"entries\"]:\n",
    "        hoffman_affects.append((category[\"category\"], entry))\n",
    "\n",
    "hoffman = pd.DataFrame(hoffman_affects, columns=[\"category\", \"affect\"])\n",
    "hoffman[\"embedding\"] = hoffman[\"affect\"].map(embed)\n",
    "hoffman[\"valence\"] = hoffman[\"embedding\"].map(\n",
    "    lambda e: valence_ridge.predict(np.array(e).reshape(1, -1))[0]\n",
    ")\n",
    "hoffman[\"arousal\"] = hoffman[\"embedding\"].map(\n",
    "    lambda e: arousal_ridge.predict(np.array(e).reshape(1, -1))[0]\n",
    ")"
   ]
  },
  {
   "cell_type": "code",
   "execution_count": null,
   "metadata": {},
   "outputs": [
    {
     "ename": "",
     "evalue": "",
     "output_type": "error",
     "traceback": [
      "\u001b[1;31mThe kernel failed to start as the Python Environment 'Python 3.12.3' is no longer available. Consider selecting another kernel or refreshing the list of Python Environments."
     ]
    }
   ],
   "source": [
    "selection = alt.selection_point(fields=[\"category\"], bind=\"legend\")\n",
    "\n",
    "base = (\n",
    "    alt.Chart(\n",
    "        hoffman[[\"affect\", \"valence\", \"arousal\", \"category\"]],\n",
    "        title=\"Circumplex Embedding\",\n",
    "    )\n",
    "    .mark_point()\n",
    "    .encode(\n",
    "        alt.X(\"valence:Q\").axis(None).scale(domain=[-1.2, 1.2]),\n",
    "        alt.Y(\"arousal:Q\").axis(None).scale(domain=[-1.2, 1.2]),\n",
    "        alt.Color(\"category\").title(\"H.I. Category\"),\n",
    "        opacity=alt.condition(selection, alt.value(1.0), alt.value(0.1)),\n",
    "        tooltip=[\n",
    "            alt.Tooltip(\"affect\"),\n",
    "            alt.Tooltip(\"valence:Q\", format=\"0.2f\"),\n",
    "            alt.Tooltip(\"arousal:Q\", format=\"0.2f\"),\n",
    "        ],\n",
    "    )\n",
    "    .add_params(selection)\n",
    ")\n",
    "\n",
    "render_and_save(add_circumplex(base), \"figures/hoffman.json\")"
   ]
  }
 ],
 "metadata": {
  "kernelspec": {
   "display_name": ".venv",
   "language": "python",
   "name": "python3"
  },
  "language_info": {
   "codemirror_mode": {
    "name": "ipython",
    "version": 3
   },
   "file_extension": ".py",
   "mimetype": "text/x-python",
   "name": "python",
   "nbconvert_exporter": "python",
   "pygments_lexer": "ipython3",
   "version": "3.12.3"
  }
 },
 "nbformat": 4,
 "nbformat_minor": 2
}
